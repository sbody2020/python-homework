{
 "cells": [
  {
   "cell_type": "code",
   "execution_count": 15,
   "id": "53153dfe",
   "metadata": {},
   "outputs": [],
   "source": [
    "import numpy\n",
    "\n",
    "#for number in range of list? \n",
    "#caculate the total number of months included in the dataset.\n",
    "\n",
    "\n",
    "\n",
    "#for numbers in range?\n",
    "#calculate the net total amount of profit/losses over the entire period.\n",
    "\n",
    "\n",
    "\n",
    "#def calculation for this\n",
    "#calculate the average of the changes in profit/losses over the entire period.\n",
    "\n",
    "\n",
    "\n",
    "#for loop?\n",
    "#calculate the greatest increase in profits (date and amount) over the entire period.\n",
    "\n",
    "\n",
    "\n",
    "#for loop? \n",
    "#calculate the greatest decrease in losses (date and amount) over the entire period.\n",
    "\n",
    "\n",
    "\n",
    "#print(f\"Financial Analysis, Total Months: {total_months}, Total PNL: {total_PNL}, Average Change: ${Average_Change}, Greatest increase in Profits: {Greatest_increase_in_profits}, Greatest Decrease in Profits: {Greatest_decrease_in_profits} )"
   ]
  },
  {
   "cell_type": "code",
   "execution_count": 2,
   "id": "69017d91",
   "metadata": {},
   "outputs": [],
   "source": [
    "# import the pathlib and csv library\n",
    "from pathlib import Path\n",
    "import csv\n",
    "#set the file path\n",
    "csvpath = Path('C:/Users/steve/python-homework/PyBank/week_2_homework_PyBank_Resources_budget_data (1).csv')"
   ]
  },
  {
   "cell_type": "code",
   "execution_count": 6,
   "id": "27f249a2",
   "metadata": {},
   "outputs": [
    {
     "name": "stdout",
     "output_type": "stream",
     "text": [
      "C:\\Users\\steve\\python-homework\\PyBank\\week_2_homework_PyBank_Resources_budget_data (1).csv\n"
     ]
    }
   ],
   "source": [
    "print(csvpath)"
   ]
  },
  {
   "cell_type": "code",
   "execution_count": 16,
   "id": "7de41555",
   "metadata": {},
   "outputs": [
    {
     "name": "stdout",
     "output_type": "stream",
     "text": [
      "<class '_io.TextIOWrapper'>\n",
      "<class '_csv.reader'>\n"
     ]
    }
   ],
   "source": [
    "#create a final financial report list \n",
    "financial_report = []\n",
    "\n",
    "line_num = 0\n",
    "\n",
    "with open(csvpath, 'r') as csvfile:\n",
    "    print(type(csvfile))\n",
    "    csvreader = csv.reader(csvfile, delimiter= ',')\n",
    "    print(type(csvreader))"
   ]
  },
  {
   "cell_type": "code",
   "execution_count": 11,
   "id": "cbfea24d",
   "metadata": {},
   "outputs": [
    {
     "data": {
      "text/plain": [
       "[]"
      ]
     },
     "execution_count": 11,
     "metadata": {},
     "output_type": "execute_result"
    }
   ],
   "source": [
    "financial_report"
   ]
  },
  {
   "cell_type": "code",
   "execution_count": null,
   "id": "571aba45",
   "metadata": {},
   "outputs": [],
   "source": []
  },
  {
   "cell_type": "code",
   "execution_count": null,
   "id": "8578f87a",
   "metadata": {},
   "outputs": [],
   "source": []
  }
 ],
 "metadata": {
  "kernelspec": {
   "display_name": "Python 3",
   "language": "python",
   "name": "python3"
  },
  "language_info": {
   "codemirror_mode": {
    "name": "ipython",
    "version": 3
   },
   "file_extension": ".py",
   "mimetype": "text/x-python",
   "name": "python",
   "nbconvert_exporter": "python",
   "pygments_lexer": "ipython3",
   "version": "3.9.2"
  }
 },
 "nbformat": 4,
 "nbformat_minor": 5
}
