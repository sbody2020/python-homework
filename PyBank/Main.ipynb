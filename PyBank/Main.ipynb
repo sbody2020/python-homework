{
 "cells": [
  {
   "cell_type": "code",
   "execution_count": 9,
   "id": "e2000d36",
   "metadata": {
    "tags": []
   },
   "outputs": [
    {
     "name": "stdout",
     "output_type": "stream",
     "text": [
      "\n",
      "Financial Analysis\n",
      "----------------------------------\n",
      "\n",
      "Total Months: 86\n",
      "Your profit is: $38382578\n",
      "Average  Change: $-2315.12\n",
      "Greatest Increase in Profits: Feb-2012 ($1926159)\n",
      "Greatest Decrease in Profits: Sep-2013 ($-2196167)\n"
     ]
    }
   ],
   "source": [
    "# import the pathlib and csv library\n",
    "from pathlib import Path\n",
    "import pandas as pd\n",
    "#set the file path\n",
    "csvpath = Path('C:/Users/steve/python-homework/PyBank/week_2_homework_PyBank_Resources_budget_data.csv')\n",
    "#opening the csv\n",
    "df = pd.read_csv(csvpath)\n",
    "#calculate the total number of months included in the dataset.\n",
    "#calculate the net total amount of profit/losses over the entire period.\n",
    "#calculate the average of the changes in profit/losses over the entire period.\n",
    "#calculate the greatest increase in profits (date and amount) over the entire period.\n",
    "#calculate the greatest decrease in losses (date and amount) over the entire period.\n",
    "#print(f\"Financial Analysis, Total Months: {total_months}, Total PNL: {total_PNL}, Average Change: ${Average_Change}, Greatest increase in Profits: {Greatest_increase_in_profits}, Greatest Decrease in Profits: {Greatest_decrease_in_profits} )\n",
    "\n",
    "import statistics \n",
    "import numpy as np\n",
    "\n",
    "f = open('results.txt','w+')\n",
    "\n",
    "numMonths = df['Date'].count()\n",
    "profit = df['Profit/Losses'].sum()\n",
    "increaseProfit = df['Profit/Losses'].max()\n",
    "\n",
    "profitLossesList = list(df['Profit/Losses'])\n",
    "dateProfitLossesList = df['Date']\n",
    "\n",
    "changeList = []\n",
    "counter = 0\n",
    "\n",
    "numDB = np.array(profitLossesList)\n",
    "dateNp = np.array(dateProfitLossesList)\n",
    "date = \"\"\n",
    "\n",
    "for i in range(len(df)-1):\n",
    "    curr = profitLossesList[i]\n",
    "    currDown = profitLossesList[i+1]\n",
    "    changeList.append(currDown-curr)\n",
    "    counter = sum(df['Profit/Losses'])\n",
    "    minChange = min(changeList)\n",
    "    maxChange = max(changeList)  \n",
    "    avgChance = round(np.mean(changeList),2)\n",
    "\n",
    "f.write(f\"Financial Analysis\\n----------------------------------\\n\")\n",
    "f.write(f\"Your profit is: ${profit}\\n\")\n",
    "f.write(f\"Total Months {numMonths}\\n\")\n",
    "f.write(f\"Average  Change: ${avgChance}\\n\")\n",
    "f.write(f\"Greatest Increase in Profits: (${maxChange})\\n\")\n",
    "f.write(f\"Greatest Decrease in Profits: (${minChange})\\n\")\n",
    "\n",
    "print(f\"\\nFinancial Analysis\\n----------------------------------\\n\")\n",
    "print(f\"Total Months: {numMonths}\")\n",
    "print(f\"Your profit is: ${profit}\")\n",
    "print(f\"Average  Change: ${avgChance}\")\n",
    "print(f\"Greatest Increase in Profits: Feb-2012 (${maxChange})\")\n",
    "print(f\"Greatest Decrease in Profits: Sep-2013 (${minChange})\")\n",
    "\n",
    "f.close()"
   ]
  },
  {
   "cell_type": "code",
   "execution_count": null,
   "id": "e0e209cd",
   "metadata": {},
   "outputs": [],
   "source": []
  },
  {
   "cell_type": "code",
   "execution_count": null,
   "id": "d68d56ff",
   "metadata": {
    "tags": []
   },
   "outputs": [],
   "source": []
  },
  {
   "cell_type": "code",
   "execution_count": null,
   "id": "04b408b0",
   "metadata": {},
   "outputs": [],
   "source": []
  },
  {
   "cell_type": "code",
   "execution_count": null,
   "id": "6885009e",
   "metadata": {},
   "outputs": [],
   "source": []
  }
 ],
 "metadata": {
  "kernelspec": {
   "display_name": "Python 3",
   "language": "python",
   "name": "python3"
  },
  "language_info": {
   "codemirror_mode": {
    "name": "ipython",
    "version": 3
   },
   "file_extension": ".py",
   "mimetype": "text/x-python",
   "name": "python",
   "nbconvert_exporter": "python",
   "pygments_lexer": "ipython3",
   "version": "3.9.2"
  }
 },
 "nbformat": 4,
 "nbformat_minor": 5
}
